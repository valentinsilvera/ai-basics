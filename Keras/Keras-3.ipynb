{
  "nbformat": 4,
  "nbformat_minor": 0,
  "metadata": {
    "colab": {
      "name": "Keras.ipynb",
      "provenance": []
    },
    "kernelspec": {
      "name": "python3",
      "display_name": "Python 3"
    },
    "language_info": {
      "name": "python"
    },
    "accelerator": "TPU"
  },
  "cells": [
    {
      "cell_type": "markdown",
      "source": [
        "# Training a model with Keras and SqueezeNet\n",
        "\n",
        "My final model creation is done with Keras. It offers more control over the model and how it's trained. Keras runs on top of TensorFlow, so I'm doing all the training on GColab."
      ],
      "metadata": {
        "id": "aCIAG6ZSzqz1"
      }
    },
    {
      "cell_type": "code",
      "execution_count": 20,
      "metadata": {
        "id": "nL3SEmm2tN2E"
      },
      "outputs": [],
      "source": [
        "import numpy as np\n",
        "import keras\n",
        "from keras.models import Sequential\n",
        "from keras.layers import *\n",
        "from keras import optimizers\n",
        "import matplotlib.pyplot as plt"
      ]
    },
    {
      "cell_type": "markdown",
      "source": [
        "I define the size of the images that I will be using to train the model: 32px*32px"
      ],
      "metadata": {
        "id": "kmwHu9O224TT"
      }
    },
    {
      "cell_type": "code",
      "source": [
        "image_width = 32\n",
        "image_height = 32\n",
        "num_classes = 20"
      ],
      "metadata": {
        "id": "K5ShRJzotuHt"
      },
      "execution_count": 21,
      "outputs": []
    },
    {
      "cell_type": "markdown",
      "source": [
        "The first iteration of the model is going to be one with a single Flatten (images go from 3 dimensions: height x width x rgb) to a single dimension. \n",
        "\n",
        "Then Dense (the important part of the logistic regression: multiplying the 3072 inputs and the 20 outputs, each input is connected to every output):\n",
        "Dense -> y = a[0]*x[0] + a[1]*x[1] + ... + a[3071]*x[3071] + b*\n",
        "\n",
        "Finally a softmax function is applied, this is a non-linear operation that gets applied to the output, this makes a *multinomial* logistic regression classifier. It tells us which classes the data points belong to, depending on which side of the line they fall."
      ],
      "metadata": {
        "id": "-DrCXfOO3DyM"
      }
    },
    {
      "cell_type": "code",
      "source": [
        "model = Sequential()\n",
        "model.add(Flatten(input_shape=(image_height, image_width, 3)))\n",
        "model.add(Dense(num_classes))\n",
        "model.add(Activation(\"softmax\"))\n",
        "\n",
        "model.summary()"
      ],
      "metadata": {
        "colab": {
          "base_uri": "https://localhost:8080/"
        },
        "id": "sG_2guQ7txQ6",
        "outputId": "d20e3049-3f26-46e1-d65e-e681214ef46e"
      },
      "execution_count": 22,
      "outputs": [
        {
          "output_type": "stream",
          "name": "stdout",
          "text": [
            "Model: \"sequential_3\"\n",
            "_________________________________________________________________\n",
            " Layer (type)                Output Shape              Param #   \n",
            "=================================================================\n",
            " flatten_2 (Flatten)         (None, 3072)              0         \n",
            "                                                                 \n",
            " dense_4 (Dense)             (None, 20)                61460     \n",
            "                                                                 \n",
            " activation_3 (Activation)   (None, 20)                0         \n",
            "                                                                 \n",
            "=================================================================\n",
            "Total params: 61,460\n",
            "Trainable params: 61,460\n",
            "Non-trainable params: 0\n",
            "_________________________________________________________________\n"
          ]
        }
      ]
    },
    {
      "cell_type": "markdown",
      "source": [
        "Then it's time to compile the model, giving it the **loss function** to use: categorical cross-enthropy. An **optimizer** implements the Stochastic Gradient Decent, the learning rate is a very important hyperparameter, after some tinkering, 0.001 seems to be a good step size. I also add the accuracy metric as it's easier to read than the default loss value."
      ],
      "metadata": {
        "id": "mqHa9zbm6IAk"
      }
    },
    {
      "cell_type": "code",
      "source": [
        "model.compile(loss=\"categorical_crossentropy\",\n",
        "              optimizer=tf.keras.optimizers.Adam(learning_rate=1e-3),\n",
        "              metrics=[\"accuracy\"])"
      ],
      "metadata": {
        "id": "KZm-f3Ai5q9e"
      },
      "execution_count": 23,
      "outputs": []
    },
    {
      "cell_type": "markdown",
      "source": [
        "Loading the data and taking one of them to check if the loading and resizing works correctly:"
      ],
      "metadata": {
        "id": "twYjz0FG7Lx2"
      }
    },
    {
      "cell_type": "code",
      "source": [
        "images_dir = \"/content/drive/MyDrive/Colab Notebooks/snacks\"\n",
        "train_data_dir = images_dir + \"/train/\"\n",
        "val_data_dir = images_dir + \"/val/\"\n",
        "test_data_dir = images_dir + \"/test/\""
      ],
      "metadata": {
        "id": "kpqtDq4At4eD"
      },
      "execution_count": 24,
      "outputs": []
    },
    {
      "cell_type": "code",
      "source": [
        "from keras.preprocessing import image\n",
        "img = image.load_img(\n",
        "  train_data_dir + \"apple/cecd90f5d46f57b0.jpg\", \n",
        "  target_size=(image_width, image_height))\n",
        "\n",
        "plt.imshow(img)"
      ],
      "metadata": {
        "colab": {
          "base_uri": "https://localhost:8080/",
          "height": 283
        },
        "id": "5fv9SPQ0uKJ8",
        "outputId": "8e4503e6-248d-455b-dad1-ac61dd691452"
      },
      "execution_count": 25,
      "outputs": [
        {
          "output_type": "execute_result",
          "data": {
            "text/plain": [
              "<matplotlib.image.AxesImage at 0x7ff6b7db60d0>"
            ]
          },
          "metadata": {},
          "execution_count": 25
        },
        {
          "output_type": "display_data",
          "data": {
            "text/plain": [
              "<Figure size 432x288 with 1 Axes>"
            ],
            "image/png": "[encoded data removed]"
          },
          "metadata": {
            "needs_background": "light"
          }
        }
      ]
    },
    {
      "cell_type": "markdown",
      "source": [
        "It's important to transform the PIL images to a NumPy array, as it's the one that Keras can train with. The arrays consist of numbers between 0 and 255 (as they're pixels). But it's customary (and good practice) to normalize the data before training with it. Feature scaling will have a mean of 0. So the function normalize_pixels(image) creates a new range from -1 to 1."
      ],
      "metadata": {
        "id": "LjjCLH8M7UCu"
      }
    },
    {
      "cell_type": "code",
      "source": [
        "x = image.img_to_array(img)\n",
        "\n",
        "print(x)\n",
        "\n",
        "def normalize_pixels(image):\n",
        "    return image / 127.5 - 1\n",
        "\n",
        "x = image.img_to_array(img)\n",
        "x = normalize_pixels(x)\n",
        "x = np.expand_dims(x, axis=0)\n",
        "\n",
        "print(\"Normalized: \", x)"
      ],
      "metadata": {
        "colab": {
          "base_uri": "https://localhost:8080/"
        },
        "id": "d4EpqUavuXL1",
        "outputId": "6cf5c7cc-2b74-48e4-93ab-2365dfd913ef"
      },
      "execution_count": 26,
      "outputs": [
        {
          "output_type": "stream",
          "name": "stdout",
          "text": [
            "[[[215. 215. 217.]\n",
            "  [211. 211. 211.]\n",
            "  [207. 207. 207.]\n",
            "  ...\n",
            "  [152. 150. 137.]\n",
            "  [148. 146. 133.]\n",
            "  [149. 147. 132.]]\n",
            "\n",
            " [[213. 213. 215.]\n",
            "  [210. 210. 210.]\n",
            "  [207. 207. 207.]\n",
            "  ...\n",
            "  [157. 150. 134.]\n",
            "  [153. 146. 130.]\n",
            "  [153. 146. 128.]]\n",
            "\n",
            " [[219. 220. 222.]\n",
            "  [220. 221. 223.]\n",
            "  [218. 219. 221.]\n",
            "  ...\n",
            "  [156. 149. 133.]\n",
            "  [152. 145. 129.]\n",
            "  [153. 146. 130.]]\n",
            "\n",
            " ...\n",
            "\n",
            " [[172.  50.  65.]\n",
            "  [131.  34.  41.]\n",
            "  [ 95.  23.  27.]\n",
            "  ...\n",
            "  [193. 121.  81.]\n",
            "  [181.  90.  63.]\n",
            "  [140.  68.  46.]]\n",
            "\n",
            " [[168.  54.  64.]\n",
            "  [123.  32.  41.]\n",
            "  [118.  33.  40.]\n",
            "  ...\n",
            "  [177. 118.  74.]\n",
            "  [163.  64.  45.]\n",
            "  [136.  49.  39.]]\n",
            "\n",
            " [[165.  55.  66.]\n",
            "  [132.  35.  46.]\n",
            "  [120.  29.  38.]\n",
            "  ...\n",
            "  [172. 116.  67.]\n",
            "  [155.  89.  55.]\n",
            "  [111.  25.  24.]]]\n",
            "Normalized:  [[[[ 0.6862745   0.6862745   0.7019608 ]\n",
            "   [ 0.654902    0.654902    0.654902  ]\n",
            "   [ 0.62352943  0.62352943  0.62352943]\n",
            "   ...\n",
            "   [ 0.19215691  0.17647064  0.07450986]\n",
            "   [ 0.16078436  0.14509809  0.04313731]\n",
            "   [ 0.1686275   0.15294123  0.03529418]]\n",
            "\n",
            "  [[ 0.67058825  0.67058825  0.6862745 ]\n",
            "   [ 0.64705884  0.64705884  0.64705884]\n",
            "   [ 0.62352943  0.62352943  0.62352943]\n",
            "   ...\n",
            "   [ 0.2313726   0.17647064  0.05098045]\n",
            "   [ 0.20000005  0.14509809  0.0196079 ]\n",
            "   [ 0.20000005  0.14509809  0.00392163]]\n",
            "\n",
            "  [[ 0.7176471   0.7254902   0.7411765 ]\n",
            "   [ 0.7254902   0.73333335  0.7490196 ]\n",
            "   [ 0.70980394  0.7176471   0.73333335]\n",
            "   ...\n",
            "   [ 0.22352946  0.1686275   0.04313731]\n",
            "   [ 0.19215691  0.13725495  0.01176476]\n",
            "   [ 0.20000005  0.14509809  0.0196079 ]]\n",
            "\n",
            "  ...\n",
            "\n",
            "  [[ 0.34901965 -0.60784316 -0.49019605]\n",
            "   [ 0.02745104 -0.73333335 -0.6784314 ]\n",
            "   [-0.25490195 -0.81960785 -0.7882353 ]\n",
            "   ...\n",
            "   [ 0.5137255  -0.05098039 -0.36470586]\n",
            "   [ 0.41960788 -0.29411763 -0.5058824 ]\n",
            "   [ 0.09803927 -0.46666664 -0.6392157 ]]\n",
            "\n",
            "  [[ 0.3176471  -0.5764706  -0.4980392 ]\n",
            "   [-0.03529412 -0.7490196  -0.6784314 ]\n",
            "   [-0.0745098  -0.7411765  -0.6862745 ]\n",
            "   ...\n",
            "   [ 0.38823533 -0.0745098  -0.41960782]\n",
            "   [ 0.27843142 -0.4980392  -0.64705884]\n",
            "   [ 0.06666672 -0.6156863  -0.69411767]]\n",
            "\n",
            "  [[ 0.2941177  -0.5686275  -0.4823529 ]\n",
            "   [ 0.03529418 -0.7254902  -0.6392157 ]\n",
            "   [-0.05882353 -0.77254903 -0.7019608 ]\n",
            "   ...\n",
            "   [ 0.34901965 -0.09019607 -0.47450978]\n",
            "   [ 0.21568632 -0.30196077 -0.5686275 ]\n",
            "   [-0.12941176 -0.8039216  -0.8117647 ]]]]\n"
          ]
        }
      ]
    },
    {
      "cell_type": "markdown",
      "source": [
        "It's time to test the model with the first prediction. As the model didn't learn anything yet, it should give a number close to 0.05 or 5% per class. This might sound useless, but it helps with visualizing if there are any errors until now. As training a model that's already buggy wouldn't be useful:"
      ],
      "metadata": {
        "id": "OCMWL9Cw9El_"
      }
    },
    {
      "cell_type": "code",
      "source": [
        "pred = model.predict(x)\n",
        "print(pred)"
      ],
      "metadata": {
        "colab": {
          "base_uri": "https://localhost:8080/"
        },
        "id": "6Kn1I0Guu4SY",
        "outputId": "6cf8b474-a27e-4a1e-cc20-04c2690d5416"
      },
      "execution_count": 27,
      "outputs": [
        {
          "output_type": "stream",
          "name": "stdout",
          "text": [
            "[[0.03312709 0.03664171 0.03461097 0.05820881 0.02576856 0.05648158\n",
            "  0.15344732 0.03297386 0.08870466 0.06590625 0.04703789 0.01189364\n",
            "  0.01468125 0.01893063 0.00823254 0.02741101 0.01923922 0.15265453\n",
            "  0.06553201 0.04851644]]\n"
          ]
        }
      ]
    },
    {
      "cell_type": "markdown",
      "source": [
        "To make the loading of images easier, Keras provides generators to check that the data is correct, also it loads the folders correctly. In this case the train generator has shuffle=True while the other two are False. This is because during training I don't want the model to learn specific order of the images. Meanwhile during testing I want them in order, to check that the answers are correct."
      ],
      "metadata": {
        "id": "bJP_BI9j9dpE"
      }
    },
    {
      "cell_type": "code",
      "source": [
        "from keras.preprocessing.image import ImageDataGenerator\n",
        "\n",
        "datagen = ImageDataGenerator(preprocessing_function=normalize_pixels)\n",
        "\n",
        "batch_size = 64\n",
        "\n",
        "train_generator = datagen.flow_from_directory(\n",
        "                    train_data_dir,\n",
        "                    target_size=(image_width, image_height),\n",
        "                    batch_size=batch_size,\n",
        "                    class_mode=\"categorical\",\n",
        "                    shuffle=True)\n",
        "\n",
        "val_generator = datagen.flow_from_directory(\n",
        "                    val_data_dir,\n",
        "                    target_size=(image_width, image_height),\n",
        "                    batch_size=batch_size,\n",
        "                    class_mode=\"categorical\",\n",
        "                    shuffle=False)\n",
        "\n",
        "test_generator = datagen.flow_from_directory(\n",
        "                    test_data_dir,\n",
        "                    target_size=(image_width, image_height),\n",
        "                    batch_size=batch_size,\n",
        "                    class_mode=\"categorical\",\n",
        "                    shuffle=False)"
      ],
      "metadata": {
        "colab": {
          "base_uri": "https://localhost:8080/"
        },
        "id": "wtb0GJlavEF_",
        "outputId": "a2fb1117-959d-4a85-ae73-d21c3423eff1"
      },
      "execution_count": 28,
      "outputs": [
        {
          "output_type": "stream",
          "name": "stdout",
          "text": [
            "Found 4860 images belonging to 20 classes.\n",
            "Found 955 images belonging to 20 classes.\n",
            "Found 986 images belonging to 20 classes.\n"
          ]
        }
      ]
    },
    {
      "cell_type": "markdown",
      "source": [
        "And this is the generator output:"
      ],
      "metadata": {
        "id": "8WWygwAi-1bY"
      }
    },
    {
      "cell_type": "code",
      "source": [
        "x, y = next(train_generator)\n",
        "print(x.shape)\n",
        "print(y.shape)"
      ],
      "metadata": {
        "colab": {
          "base_uri": "https://localhost:8080/"
        },
        "id": "S_Q1nAr4-36R",
        "outputId": "b9a34d5e-8b8f-40a4-b38b-f632e1eb3db8"
      },
      "execution_count": 29,
      "outputs": [
        {
          "output_type": "stream",
          "name": "stdout",
          "text": [
            "(64, 32, 32, 3)\n",
            "(64, 20)\n"
          ]
        }
      ]
    },
    {
      "cell_type": "markdown",
      "source": [
        "The shape of the x tensor is (64, 32, 32, 3) because it contains 64 RGB images of 32x32 px."
      ],
      "metadata": {
        "id": "z5y6KeET_A4g"
      }
    },
    {
      "cell_type": "markdown",
      "source": [
        "It's time to run the untrained model on the entire test set and verify that both the model and generators work. At this point the accuracy should be around 5%, as the output is basically a random guess for the class:"
      ],
      "metadata": {
        "id": "0R0DYJHh_3Xh"
      }
    },
    {
      "cell_type": "code",
      "source": [
        "model.evaluate(test_generator, steps=len(test_generator))"
      ],
      "metadata": {
        "colab": {
          "base_uri": "https://localhost:8080/"
        },
        "id": "CcLWhUkM_aQX",
        "outputId": "d1aa1766-40ad-4e26-da8e-8c8390f0ede0"
      },
      "execution_count": 30,
      "outputs": [
        {
          "output_type": "stream",
          "name": "stdout",
          "text": [
            "16/16 [==============================] - 5s 278ms/step - loss: 3.3259 - accuracy: 0.0477\n"
          ]
        },
        {
          "output_type": "execute_result",
          "data": {
            "text/plain": [
              "[3.3259057998657227, 0.04766734316945076]"
            ]
          },
          "metadata": {},
          "execution_count": 30
        }
      ]
    },
    {
      "cell_type": "markdown",
      "source": [
        "After checking that the infrastructure is in place, we can start performing the first training.\n",
        "1- Ignore the warnings from the PIL library, as it just generates noise\n",
        "2- Call the fit_generator on the model, I'll do this for 5 epochs (pass through all the training images)"
      ],
      "metadata": {
        "id": "uVcXG0v0AI3M"
      }
    },
    {
      "cell_type": "code",
      "source": [
        "model.fit(train_generator, \n",
        "          steps_per_epoch=len(train_generator),\n",
        "          validation_data=val_generator,\n",
        "          validation_steps=len(val_generator),\n",
        "          epochs=5,\n",
        "          workers=16)"
      ],
      "metadata": {
        "colab": {
          "base_uri": "https://localhost:8080/"
        },
        "id": "t-oUScvuASBL",
        "outputId": "f2c71809-052a-4168-cb54-7c29b97a4166"
      },
      "execution_count": 31,
      "outputs": [
        {
          "output_type": "stream",
          "name": "stdout",
          "text": [
            "Epoch 1/5\n",
            "76/76 [==============================] - 22s 252ms/step - loss: 3.0873 - accuracy: 0.1053 - val_loss: 3.0500 - val_accuracy: 0.1246\n",
            "Epoch 2/5\n",
            "76/76 [==============================] - 15s 179ms/step - loss: 2.6937 - accuracy: 0.1979 - val_loss: 3.0777 - val_accuracy: 0.1277\n",
            "Epoch 3/5\n",
            "76/76 [==============================] - 15s 181ms/step - loss: 2.4914 - accuracy: 0.2720 - val_loss: 3.1122 - val_accuracy: 0.1120\n",
            "Epoch 4/5\n",
            "76/76 [==============================] - 15s 183ms/step - loss: 2.3251 - accuracy: 0.3278 - val_loss: 3.1387 - val_accuracy: 0.1058\n",
            "Epoch 5/5\n",
            "76/76 [==============================] - 15s 179ms/step - loss: 2.2058 - accuracy: 0.3591 - val_loss: 3.1780 - val_accuracy: 0.1204\n"
          ]
        },
        {
          "output_type": "execute_result",
          "data": {
            "text/plain": [
              "<keras.callbacks.History at 0x7ff6b67989d0>"
            ]
          },
          "metadata": {},
          "execution_count": 31
        }
      ]
    },
    {
      "cell_type": "markdown",
      "source": [
        "The model is already better with an accuracy of around ~12%. But how come the training accuracy is much higher? **Overfitting:** the model isn't learning to classify images, it just remembers the combinations of pixels on every image, instead of what they represent."
      ],
      "metadata": {
        "id": "TDRP5s5eCj7q"
      }
    },
    {
      "cell_type": "markdown",
      "source": [
        "To improve this we can add another logistic regression to it. This makes for a very simple neural network! The first dense layer connects 3072 inputs to 500 hidden neurons, which then connect to the 20 outputs. The activation function on the dense layer is a rectified linear unit, basically *y = max(0, x)*. "
      ],
      "metadata": {
        "id": "ucZ4nDTeDKVv"
      }
    },
    {
      "cell_type": "code",
      "source": [
        "model = Sequential()\n",
        "model.add(Flatten(input_shape=(image_height, image_width, 3)))\n",
        "model.add(Dense(500, activation=\"relu\"))  # new dense layer\n",
        "model.add(Dense(num_classes))\n",
        "model.add(Activation(\"softmax\"))"
      ],
      "metadata": {
        "id": "sbLUusjfDil1"
      },
      "execution_count": 32,
      "outputs": []
    },
    {
      "cell_type": "markdown",
      "source": [
        "It's time to compile the new model and train it, this time 3 epochs will be enough:"
      ],
      "metadata": {
        "id": "4SCqfSbPES-E"
      }
    },
    {
      "cell_type": "code",
      "source": [
        "model.compile(loss=\"categorical_crossentropy\",\n",
        "              optimizer=tf.keras.optimizers.Adam(learning_rate=1e-3),\n",
        "              metrics=[\"accuracy\"])\n",
        "\n",
        "model.fit(train_generator, \n",
        "          steps_per_epoch=len(train_generator),\n",
        "          validation_data=val_generator,\n",
        "          validation_steps=len(val_generator),\n",
        "          epochs=3,\n",
        "          workers=16)"
      ],
      "metadata": {
        "colab": {
          "base_uri": "https://localhost:8080/"
        },
        "id": "CHQiiQPJEZwx",
        "outputId": "b2435e02-f81e-4f40-a73e-913b8a0f30a0"
      },
      "execution_count": 33,
      "outputs": [
        {
          "output_type": "stream",
          "name": "stdout",
          "text": [
            "Epoch 1/3\n",
            "76/76 [==============================] - 20s 246ms/step - loss: 3.2285 - accuracy: 0.1130 - val_loss: 3.0682 - val_accuracy: 0.1288\n",
            "Epoch 2/3\n",
            "76/76 [==============================] - 16s 199ms/step - loss: 2.3962 - accuracy: 0.3144 - val_loss: 3.1816 - val_accuracy: 0.1403\n",
            "Epoch 3/3\n",
            "76/76 [==============================] - 16s 198ms/step - loss: 1.8965 - accuracy: 0.4613 - val_loss: 3.1770 - val_accuracy: 0.1602\n"
          ]
        },
        {
          "output_type": "execute_result",
          "data": {
            "text/plain": [
              "<keras.callbacks.History at 0x7ff6b84cbe90>"
            ]
          },
          "metadata": {},
          "execution_count": 33
        }
      ]
    },
    {
      "cell_type": "markdown",
      "source": [
        "This type of model: logistic regression and fully connected neural networks won't give a much better output than this 16% accuracy, this is because it destroys the spatial nature of the data. "
      ],
      "metadata": {
        "id": "EINPrYXAZb-d"
      }
    },
    {
      "cell_type": "markdown",
      "source": [
        "Going convolutional:\n",
        "As described before, flattening removes the depth dimension of the input data (red, green, and blue). It's better to treat these numbers as an indivisible unit: the pixel's color. A convolution is like a window (in this case 3x3px) that moves through the image, and the weight is applied to the 9 pixels in the window. We could say it's a translation invariant, as the weights are the same no matter where we look. Let's now define the new sizes for the images:"
      ],
      "metadata": {
        "id": "ClwjR9tqaLRw"
      }
    },
    {
      "cell_type": "code",
      "source": [
        "image_width = 224\n",
        "image_height = 224\n",
        "num_classes = 20"
      ],
      "metadata": {
        "id": "ehOW3qrQa945"
      },
      "execution_count": 34,
      "outputs": []
    },
    {
      "cell_type": "markdown",
      "source": [
        "And create the model. In this case we have the same Dense and Activation(\"softmax\") layers as before, but without the Flatten layer. Instead, I'm using a Conv2D layer with the following parameters:\n",
        "- Number of filters: I start with 32, up to 256 on the last layer. Each filter learns to detect a unique pattern\n",
        "- The size of the kernel window: 3, which is interpreted as (3, 3)\n",
        "- The padding: this adds a padding of one empty pixel around the image, so the output size remains the same (check the hand in to see why is this)\n",
        "- A non-linear activation function: still using ReLU"
      ],
      "metadata": {
        "id": "uYKjJQoSbFq1"
      }
    },
    {
      "cell_type": "code",
      "source": [
        "model = Sequential()\n",
        "model.add(Conv2D(32, 3, padding=\"same\", activation=\"relu\",\n",
        "                 input_shape=(image_height, image_width, 3)))\n",
        "model.add(Conv2D(32, 3, padding=\"same\", activation=\"relu\"))\n",
        "model.add(MaxPooling2D(2))\n",
        "model.add(Conv2D(64, 3, padding=\"same\", activation=\"relu\"))\n",
        "model.add(Conv2D(64, 3, padding=\"same\", activation=\"relu\"))\n",
        "model.add(MaxPooling2D(2))\n",
        "model.add(Conv2D(128, 3, padding=\"same\", activation=\"relu\"))\n",
        "model.add(Conv2D(128, 3, padding=\"same\", activation=\"relu\"))\n",
        "model.add(MaxPooling2D(2))\n",
        "model.add(Conv2D(256, 3, padding=\"same\", activation=\"relu\"))\n",
        "model.add(Conv2D(256, 3, padding=\"same\", activation=\"relu\"))\n",
        "model.add(GlobalAveragePooling2D())\n",
        "model.add(Dense(num_classes))\n",
        "model.add(Activation(\"softmax\"))"
      ],
      "metadata": {
        "id": "c27J8yQfcHSY"
      },
      "execution_count": 35,
      "outputs": []
    },
    {
      "cell_type": "markdown",
      "source": [
        "Compile the new model:"
      ],
      "metadata": {
        "id": "AC2MwhEDS3cW"
      }
    },
    {
      "cell_type": "code",
      "source": [
        "model.compile(loss=\"categorical_crossentropy\",\n",
        "              optimizer=tf.keras.optimizers.Adam(learning_rate=1e-3),\n",
        "              metrics=[\"accuracy\"])"
      ],
      "metadata": {
        "id": "P05a9ECHcTvs"
      },
      "execution_count": 36,
      "outputs": []
    },
    {
      "cell_type": "markdown",
      "source": [
        "Train the new model:"
      ],
      "metadata": {
        "id": "uF5rtZNNS5dX"
      }
    },
    {
      "cell_type": "code",
      "source": [
        "images_dir = \"/content/drive/MyDrive/Colab Notebooks/snacks/\"\n",
        "train_data_dir = images_dir + \"train/\"\n",
        "val_data_dir = images_dir + \"val/\"\n",
        "test_data_dir = images_dir + \"test/\"\n",
        "\n",
        "def normalize_pixels(image):\n",
        "    return image / 127.5 - 1\n",
        "\n",
        "from keras.preprocessing.image import ImageDataGenerator\n",
        "datagen = ImageDataGenerator(\n",
        "  preprocessing_function=normalize_pixels)\n",
        "\n",
        "batch_size = 64\n",
        "\n",
        "train_generator = datagen.flow_from_directory(\n",
        "                    train_data_dir,\n",
        "                    target_size=(image_width, image_height),\n",
        "                    batch_size=batch_size,\n",
        "                    class_mode=\"categorical\",\n",
        "                    shuffle=True)\n",
        "\n",
        "val_generator = datagen.flow_from_directory(\n",
        "                    val_data_dir,\n",
        "                    target_size=(image_width, image_height),\n",
        "                    batch_size=batch_size,\n",
        "                    class_mode=\"categorical\",\n",
        "                    shuffle=False)\n",
        "\n",
        "test_generator = datagen.flow_from_directory(\n",
        "                    test_data_dir,\n",
        "                    target_size=(image_width, image_height),\n",
        "                    batch_size=batch_size,\n",
        "                    class_mode=\"categorical\",\n",
        "                    shuffle=False)\n",
        "\n",
        "index2class = {v:k for k,v in \n",
        "  train_generator.class_indices.items()}"
      ],
      "metadata": {
        "colab": {
          "base_uri": "https://localhost:8080/"
        },
        "id": "iinw3Yd7cgeh",
        "outputId": "ec4912f2-e127-4e74-b770-eb50c2956f45"
      },
      "execution_count": 37,
      "outputs": [
        {
          "output_type": "stream",
          "name": "stdout",
          "text": [
            "Found 4860 images belonging to 20 classes.\n",
            "Found 955 images belonging to 20 classes.\n",
            "Found 986 images belonging to 20 classes.\n"
          ]
        }
      ]
    },
    {
      "cell_type": "markdown",
      "source": [
        "Keras returns a History object with important metrics such as loss. These history metrics can be combined in an array, and then append them. To give the accuracy a boost, I'm also using annealing. To lower the loss we must also lower the learning rate. Doing this by hand (using the optimizer in the second line below) is called **manual learning rate annealing**:"
      ],
      "metadata": {
        "id": "wYU4VTKDTDmL"
      }
    },
    {
      "cell_type": "code",
      "source": [
        "import keras.backend as K\n",
        "K.set_value(model.optimizer.lr, \n",
        "            K.get_value(model.optimizer.lr) / 10)\n",
        "\n",
        "histories = []\n",
        "history = model.fit(\n",
        "  train_generator, \n",
        "  steps_per_epoch=len(train_generator),\n",
        "  validation_data=val_generator,\n",
        "  validation_steps=len(val_generator),\n",
        "  epochs=3,\n",
        "  workers=16)\n",
        "histories.append(history)"
      ],
      "metadata": {
        "colab": {
          "base_uri": "https://localhost:8080/"
        },
        "id": "uJu6-Rk8c2WA",
        "outputId": "1c3c0309-302f-4b2b-f474-f63a9e49eae9"
      },
      "execution_count": 50,
      "outputs": [
        {
          "output_type": "stream",
          "name": "stdout",
          "text": [
            "Epoch 1/3\n",
            "76/76 [==============================] - 1976s 26s/step - loss: 2.5735 - accuracy: 0.2056 - val_loss: 2.5919 - val_accuracy: 0.2094\n",
            "Epoch 2/3\n",
            "76/76 [==============================] - 1954s 26s/step - loss: 2.5476 - accuracy: 0.2183 - val_loss: 2.5861 - val_accuracy: 0.2073\n",
            "Epoch 3/3\n",
            "76/76 [==============================] - 2045s 27s/step - loss: 2.5386 - accuracy: 0.2216 - val_loss: 2.5876 - val_accuracy: 0.2147\n"
          ]
        }
      ]
    },
    {
      "cell_type": "markdown",
      "source": [
        "I ran the previous cell twice (this is a cloud machine and it disconnects sometimes, and each run takes >1.5 hours). Every time it runs it appends the history, so now I can create a plot to visualize the loss and accuracy after all the epochs:"
      ],
      "metadata": {
        "id": "Zgr_wg56UFO1"
      }
    },
    {
      "cell_type": "code",
      "source": [
        "def combine_histories():\n",
        "    history = { \n",
        "        \"loss\": [], \n",
        "        \"val_loss\": [], \n",
        "        \"accuracy\": [],\n",
        "        \"val_accuracy\": []\n",
        "    }\n",
        "    \n",
        "    for h in histories:\n",
        "        for k in history.keys():\n",
        "            history[k] += h.history[k]\n",
        "    return history\n",
        "\n",
        "history = combine_histories()\n",
        "\n",
        "def plot_loss(history):\n",
        "    fig = plt.figure(figsize=(10, 6))\n",
        "    plt.plot(history[\"loss\"])\n",
        "    plt.plot(history[\"val_loss\"])\n",
        "    plt.xlabel(\"Epoch\")\n",
        "    plt.ylabel(\"Loss\")\n",
        "    plt.legend([\"Train\", \"Validation\"])\n",
        "    plt.show()\n",
        "\n",
        "plot_loss(history)\n",
        "\n",
        "def plot_accuracy(history):\n",
        "    fig = plt.figure(figsize=(10, 6))\n",
        "    plt.plot(history[\"accuracy\"])\n",
        "    plt.plot(history[\"val_accuracy\"])\n",
        "    plt.xlabel(\"Epoch\")\n",
        "    plt.ylabel(\"Accuracy\")\n",
        "    plt.legend([\"Train\", \"Validation\"])\n",
        "    plt.show()\n",
        "\n",
        "plot_accuracy(history)"
      ],
      "metadata": {
        "colab": {
          "base_uri": "https://localhost:8080/",
          "height": 759
        },
        "id": "gwtZryP1c9Ld",
        "outputId": "f2ffbc8c-b2cd-440f-dfb2-6a5872663926"
      },
      "execution_count": 52,
      "outputs": [
        {
          "output_type": "display_data",
          "data": {
            "text/plain": [
              "<Figure size 720x432 with 1 Axes>"
            ],
            "image/png": "[encoded data removed]"
          },
          "metadata": {
            "needs_background": "light"
          }
        },
        {
          "output_type": "display_data",
          "data": {
            "text/plain": [
              "<Figure size 720x432 with 1 Axes>"
            ],
            "image/png": "[encoded data removed]"
          },
          "metadata": {
            "needs_background": "light"
          }
        }
      ]
    },
    {
      "cell_type": "markdown",
      "source": [
        "So far I've gotten around 22% accuracy in 6 epochs (the graph only plots the last 2). This is a lot better than where I started, but there are still some improvements to be made if I want to compete with CreateML or TuriCreate. Unfortunately I run out of time. So my final model has 22% accuracy."
      ],
      "metadata": {
        "id": "cu5n7H4wUVPQ"
      }
    }
  ]
}